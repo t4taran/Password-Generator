{
 "cells": [
  {
   "cell_type": "code",
   "execution_count": 9,
   "id": "b1b80c1c",
   "metadata": {},
   "outputs": [
    {
     "name": "stdout",
     "output_type": "stream",
     "text": [
      "Want to protect your files ? Need a strong Password ? let me give you a one \n",
      "How many letters would you like in your password? \n",
      " you said ...2\n",
      "How many symbols would you like?\n",
      " you said ...2\n",
      "How many numbers would you like?\n",
      " you said ...2\n",
      " Use: b*+39w  as your password and you will be safe \n"
     ]
    }
   ],
   "source": [
    "##password generator\n",
    "import random\n",
    "#password will the combination of letters , numbers, and symbols \n",
    "letters = ['a', 'b', 'c', 'd', 'e', 'f', 'g', 'h', 'i', 'j', 'k', 'l', 'm', 'n', 'o', 'p', 'q', 'r', 's', 't', 'u', 'v', 'w', 'x', 'y', 'z', 'A', 'B', 'C', 'D', 'E', 'F', 'G', 'H', 'I', 'J', 'K', 'L', 'M', 'N', 'O', 'P', 'Q', 'R', 'S', 'T', 'U', 'V', 'W', 'X', 'Y', 'Z']\n",
    "numbers = ['0', '1', '2', '3', '4', '5', '6', '7', '8', '9']\n",
    "symbols = ['!', '#', '$', '%', '&', '(', ')', '*', '+']\n",
    "print(\"Want to protect your files ? Need a strong Password ? let me give you a one \")\n",
    "nr_letters = int(input(\"How many letters would you like in your password? \\n you said ...\"))\n",
    "nr_symbols = int(input(f\"How many symbols would you like?\\n you said ...\"))\n",
    "nr_numbers = int(input(f\"How many numbers would you like?\\n you said ...\"))\n",
    "password_list = []\n",
    "\n",
    "for char in range(1, nr_letters + 1):\n",
    "  password_list.append(random.choice(letters))\n",
    "\n",
    "for char in range(1, nr_symbols + 1):\n",
    "  password_list += random.choice(symbols)\n",
    "\n",
    "for char in range(1, nr_numbers + 1):\n",
    "  password_list += random.choice(numbers)\n",
    "\n",
    "#print(password_list)  # you can remove # to see the list \n",
    "random.shuffle(password_list)\n",
    "#print(password_list)    # you can remove # to see the list\n",
    "password = \"\"\n",
    "for char in password_list:\n",
    "  password += char\n",
    "\n",
    "print(f\" Use: {password}  as your password and you will be safe \")\n",
    "\n",
    "## using this password generator you can generate a unique password"
   ]
  },
  {
   "cell_type": "code",
   "execution_count": null,
   "id": "499ad081",
   "metadata": {},
   "outputs": [],
   "source": []
  },
  {
   "cell_type": "code",
   "execution_count": null,
   "id": "8fd58ec4",
   "metadata": {},
   "outputs": [],
   "source": []
  }
 ],
 "metadata": {
  "kernelspec": {
   "display_name": "Python 3 (ipykernel)",
   "language": "python",
   "name": "python3"
  },
  "language_info": {
   "codemirror_mode": {
    "name": "ipython",
    "version": 3
   },
   "file_extension": ".py",
   "mimetype": "text/x-python",
   "name": "python",
   "nbconvert_exporter": "python",
   "pygments_lexer": "ipython3",
   "version": "3.9.12"
  }
 },
 "nbformat": 4,
 "nbformat_minor": 5
}
